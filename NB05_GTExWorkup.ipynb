{
 "cells": [
  {
   "cell_type": "code",
   "execution_count": 1,
   "metadata": {},
   "outputs": [
    {
     "name": "stderr",
     "output_type": "stream",
     "text": [
      "/Users/jacobv/pls_gxp/lib/python3.7/site-packages/pandas/compat/__init__.py:97: UserWarning: Could not import the lzma module. Your installed Python is incomplete. Attempting to use lzma compression will result in a RuntimeError.\n",
      "  warnings.warn(msg)\n"
     ]
    }
   ],
   "source": [
    "import os\n",
    "import pandas\n",
    "import numpy as np\n",
    "import matplotlib.pyplot as plt\n",
    "import seaborn as sns\n",
    "import statsmodels.formula.api as smf\n",
    "from scipy import stats\n",
    "from sklearn.preprocessing import StandardScaler,MinMaxScaler\n",
    "from matplotlib.colors import Normalize"
   ]
  },
  {
   "cell_type": "markdown",
   "metadata": {},
   "source": [
    "# To Do\n",
    "* Put GTEx demo spreadsheet into data\n",
    "* Put GTEx expression spreadsheet (OR LINK) into data\n",
    "* Put GTEx demo 2 spreadsheet into data\n",
    "* Put GTEx exclusion spreadsheet into data\n",
    "* Put GTEx gene spreadsheet into data\n",
    "* Link \"comps\" df path to path generated from previous notebook\n",
    "* Change all the spreadsheet paths\n",
    "* Add script to prep GTEx data\n",
    "* Add instructions about the spreadsheet\n",
    "* Add information about missing Age"
   ]
  },
  {
   "cell_type": "markdown",
   "metadata": {},
   "source": [
    "# Instructions\n",
    "\n",
    "In order to run this notebook, you will need to do the following steps:\n",
    "\n",
    "1) Download the following (version 8) GTEx data from https://gtexportal.org/home/datasets:\n",
    "* GTEx_Analysis_v8_Annotations_SampleAttributesDS.txt\n",
    "* GTEx_Analysis_v8_Annotations_SubjectPhenotypesDS.txt\n",
    "* GTEx_Analysis_2017-06-05_v8_RNASeQCv1.1.9_gene_tpm.gct.gz\n",
    "\n",
    "Unzip and move into `./data/`\n",
    "\n",
    "2) Preprocess the data. To do so, run the R script found in `code/GTEx_v8_process.R`. Note that you will first need to ensure several packages and their dependencies are installed: WGCNA, SNFtool, flashClust, CePa, plyr. ***IMPORTANT! This script has not been successfully run on R version 4.x. Please us version 3.x***\n",
    "\n",
    "***NOTE*** The publicly available GTEx data has binned ages, rather than true ages. For the manuscript, we used \"Protected Data\" which has the true ages of donors. Therefore, this is perhaps the only manuscript analysis that you will not be able to run yourself with online data. We will include the exact code we ran, and you can substitute our (true) age variable with the binned age variable. But note there will be differences in the results."
   ]
  },
  {
   "cell_type": "markdown",
   "metadata": {},
   "source": [
    "# Prep data"
   ]
  },
  {
   "cell_type": "code",
   "execution_count": 6,
   "metadata": {},
   "outputs": [],
   "source": [
    "df = pandas.read_csv('/Users/jacobv/Dropbox/Work/Projects/PLS_ABA/PLS_GXP_CollabSpace/GTEx_brain_norm_noregress_meta.csv')"
   ]
  },
  {
   "cell_type": "code",
   "execution_count": 7,
   "metadata": {},
   "outputs": [],
   "source": [
    "# edit this \n",
    "df = pandas.read_csv('data/GTEx_brain_norm_noregress_meta.csv')"
   ]
  },
  {
   "cell_type": "code",
   "execution_count": 4,
   "metadata": {},
   "outputs": [],
   "source": [
    "meta = pandas.read_csv('/Users/jacobv/Science/PLS_GXP/GTEx/GTEx_Analysis_v8_Annotations_SampleAttributesDS.txt',\n",
    "                      sep='\\t')"
   ]
  },
  {
   "cell_type": "code",
   "execution_count": 5,
   "metadata": {},
   "outputs": [],
   "source": [
    "meta = pandas.read_csv('data/GTEx_Analysis_v8_Annotations_SampleAttributesDS.txt',\n",
    "                      sep='\\t')\n",
    "meta.shape"
   ]
  },
  {
   "cell_type": "markdown",
   "metadata": {},
   "source": [
    "Note that here I am getting the true age information from an internal spreadsheet. You will skip this step (unless you have access to the GTEx Protect Data, in which case you may change the path below so it points to your own spreadsheet"
   ]
  },
  {
   "cell_type": "code",
   "execution_count": 10,
   "metadata": {},
   "outputs": [],
   "source": [
    "# bwdf = pandas.read_csv('/Users/jacobv/Dropbox/Work/Projects/PLS_ABA/PLS_GXP_CollabSpace/GTEx_meta_forJake.csv')\n",
    "# bwcols = ['AGE']\n",
    "# df.loc[:,'merger'] = ['%s_%s'%(df.loc[x,'SUBJID'],\n",
    "#                                df.loc[x,'SMTSD']) for x in df.index]\n",
    "# bwdf.loc[:,'merger'] = ['%s_%s'%(bwdf.loc[x,'SUBJID'],\n",
    "#                                bwdf.loc[x,'SMTSD']) for x in bwdf.index]\n",
    "# jnk = pandas.DataFrame(df,copy=True)\n",
    "# jnk.loc[:,'old_ind'] = jnk.index.values\n",
    "# jnk.index = jnk.merger.values\n",
    "# bwdf.index = bwdf.merger.values\n",
    "# shared = list(set(bwdf.index) & set(jnk.index))\n",
    "# for col in bwcols:\n",
    "#     jnk.loc[shared,col] = bwdf.loc[shared,col].values\n",
    "#     df.loc[:,col] = jnk.loc[:,col].values"
   ]
  },
  {
   "cell_type": "code",
   "execution_count": 8,
   "metadata": {},
   "outputs": [
    {
     "data": {
      "text/plain": [
       "376"
      ]
     },
     "execution_count": 8,
     "metadata": {},
     "output_type": "execute_result"
    }
   ],
   "source": [
    "# number of samples\n",
    "len(df.SUBJID.unique())"
   ]
  },
  {
   "cell_type": "markdown",
   "metadata": {},
   "source": [
    "We also want to make sure that our results aren't driven by individuals with brain diseases. Another recent paper (10.1038/s41593-021-00887-5) recommended an extreme processing stream for the GTEx that, among other rather heavy-handed steps, excluded all individuals who died of/with brain disease. \n",
    "\n",
    "Attached is a spreadsheet of GTEx donors remaining after this preprocessing was done. By cross-referencing our spreadsheet (with everyone) with this list of donors (without individuals with brain disease), we can ID who is who"
   ]
  },
  {
   "cell_type": "code",
   "execution_count": 9,
   "metadata": {},
   "outputs": [],
   "source": [
    "excludf = pandas.read_csv('data/GTEx_healthy.csv',index_col=0)\n",
    "excludf.loc[:,'Healthy'] = [x.replace('.','-') for x in excludf.Healthy.values]\n",
    "dx_exclude = list(set(df.SUBJID.values) - set(excludf.Healthy.values))\n",
    "df.loc[df.SUBJID.isin(dx_exclude),'Excl_Dx'] = 1\n",
    "df.loc[df.Excl_Dx!=1,'Excl_Dx'] = 0"
   ]
  },
  {
   "cell_type": "code",
   "execution_count": 10,
   "metadata": {},
   "outputs": [
    {
     "data": {
      "text/plain": [
       "151"
      ]
     },
     "execution_count": 10,
     "metadata": {},
     "output_type": "execute_result"
    }
   ],
   "source": [
    "len(dx_exclude)"
   ]
  },
  {
   "cell_type": "markdown",
   "metadata": {},
   "source": [
    "Note, to run the next line, you will have needed to run the GTEx processing script first (see instructions above)."
   ]
  },
  {
   "cell_type": "code",
   "execution_count": 12,
   "metadata": {},
   "outputs": [],
   "source": [
    "# load processed expression data \n",
    "exp = pandas.read_csv('data/GTEx_brain_norm_noregress.csv')"
   ]
  },
  {
   "cell_type": "code",
   "execution_count": 13,
   "metadata": {},
   "outputs": [
    {
     "data": {
      "text/plain": [
       "(15758, 2484)"
      ]
     },
     "execution_count": 13,
     "metadata": {},
     "output_type": "execute_result"
    }
   ],
   "source": [
    "exp.shape"
   ]
  },
  {
   "cell_type": "code",
   "execution_count": 14,
   "metadata": {},
   "outputs": [],
   "source": [
    "exp.columns = ['ENSGID'] + exp.columns[1:].tolist()"
   ]
  },
  {
   "cell_type": "code",
   "execution_count": 15,
   "metadata": {},
   "outputs": [
    {
     "data": {
      "text/html": [
       "<div>\n",
       "<style scoped>\n",
       "    .dataframe tbody tr th:only-of-type {\n",
       "        vertical-align: middle;\n",
       "    }\n",
       "\n",
       "    .dataframe tbody tr th {\n",
       "        vertical-align: top;\n",
       "    }\n",
       "\n",
       "    .dataframe thead th {\n",
       "        text-align: right;\n",
       "    }\n",
       "</style>\n",
       "<table border=\"1\" class=\"dataframe\">\n",
       "  <thead>\n",
       "    <tr style=\"text-align: right;\">\n",
       "      <th></th>\n",
       "      <th>hgnc_symbol</th>\n",
       "      <th>ensembl_gene_id</th>\n",
       "      <th>chromosome_name</th>\n",
       "      <th>start_position</th>\n",
       "      <th>end_position</th>\n",
       "      <th>entrezgene_id</th>\n",
       "    </tr>\n",
       "  </thead>\n",
       "  <tbody>\n",
       "    <tr>\n",
       "      <th>0</th>\n",
       "      <td>FGR</td>\n",
       "      <td>ENSG00000000938</td>\n",
       "      <td>1</td>\n",
       "      <td>27612064</td>\n",
       "      <td>27635185</td>\n",
       "      <td>2268.0</td>\n",
       "    </tr>\n",
       "    <tr>\n",
       "      <th>1</th>\n",
       "      <td>STPG1</td>\n",
       "      <td>ENSG00000001460</td>\n",
       "      <td>1</td>\n",
       "      <td>24356999</td>\n",
       "      <td>24416934</td>\n",
       "      <td>90529.0</td>\n",
       "    </tr>\n",
       "    <tr>\n",
       "      <th>2</th>\n",
       "      <td>NIPAL3</td>\n",
       "      <td>ENSG00000001461</td>\n",
       "      <td>1</td>\n",
       "      <td>24415802</td>\n",
       "      <td>24472976</td>\n",
       "      <td>57185.0</td>\n",
       "    </tr>\n",
       "    <tr>\n",
       "      <th>3</th>\n",
       "      <td>AK2</td>\n",
       "      <td>ENSG00000004455</td>\n",
       "      <td>1</td>\n",
       "      <td>33007940</td>\n",
       "      <td>33080996</td>\n",
       "      <td>204.0</td>\n",
       "    </tr>\n",
       "    <tr>\n",
       "      <th>4</th>\n",
       "      <td>KDM1A</td>\n",
       "      <td>ENSG00000004487</td>\n",
       "      <td>1</td>\n",
       "      <td>23019443</td>\n",
       "      <td>23083689</td>\n",
       "      <td>23028.0</td>\n",
       "    </tr>\n",
       "  </tbody>\n",
       "</table>\n",
       "</div>"
      ],
      "text/plain": [
       "  hgnc_symbol  ensembl_gene_id chromosome_name  start_position  end_position  \\\n",
       "0         FGR  ENSG00000000938               1        27612064      27635185   \n",
       "1       STPG1  ENSG00000001460               1        24356999      24416934   \n",
       "2      NIPAL3  ENSG00000001461               1        24415802      24472976   \n",
       "3         AK2  ENSG00000004455               1        33007940      33080996   \n",
       "4       KDM1A  ENSG00000004487               1        23019443      23083689   \n",
       "\n",
       "   entrezgene_id  \n",
       "0         2268.0  \n",
       "1        90529.0  \n",
       "2        57185.0  \n",
       "3          204.0  \n",
       "4        23028.0  "
      ]
     },
     "execution_count": 15,
     "metadata": {},
     "output_type": "execute_result"
    }
   ],
   "source": [
    "# spreadsheet to map gene symbol (Allen) to ensemble gene ID (GTEx)\n",
    "genes = pandas.read_csv('data/gene_info.csv')\n",
    "genes.head()"
   ]
  },
  {
   "cell_type": "markdown",
   "metadata": {},
   "source": [
    "# Whole dataset congruence"
   ]
  },
  {
   "cell_type": "markdown",
   "metadata": {},
   "source": [
    "Here, we will match the GTEx genes with the Allen genes in order to derive PLS components for GTEx samples"
   ]
  },
  {
   "cell_type": "code",
   "execution_count": 16,
   "metadata": {},
   "outputs": [],
   "source": [
    "gdict = dict(zip(genes.ensembl_gene_id.values,\n",
    "                genes.hgnc_symbol.values))\n",
    "gmatch = [np.nan if x not in gdict.keys() else \\\n",
    "          gdict[x] for x in exp.ENSGID.values]\n",
    "exp.loc[:,'gene_symbol'] = gmatch\n",
    "exp.dropna(inplace=True)"
   ]
  },
  {
   "cell_type": "code",
   "execution_count": 17,
   "metadata": {},
   "outputs": [
    {
     "data": {
      "text/html": [
       "<div>\n",
       "<style scoped>\n",
       "    .dataframe tbody tr th:only-of-type {\n",
       "        vertical-align: middle;\n",
       "    }\n",
       "\n",
       "    .dataframe tbody tr th {\n",
       "        vertical-align: top;\n",
       "    }\n",
       "\n",
       "    .dataframe thead th {\n",
       "        text-align: right;\n",
       "    }\n",
       "</style>\n",
       "<table border=\"1\" class=\"dataframe\">\n",
       "  <thead>\n",
       "    <tr style=\"text-align: right;\">\n",
       "      <th></th>\n",
       "      <th>C1</th>\n",
       "      <th>gene_symbol</th>\n",
       "      <th>gene_name</th>\n",
       "      <th>C2</th>\n",
       "      <th>C3</th>\n",
       "      <th>C1_genelist</th>\n",
       "      <th>C2_genelist</th>\n",
       "      <th>C3_genelist</th>\n",
       "    </tr>\n",
       "  </thead>\n",
       "  <tbody>\n",
       "    <tr>\n",
       "      <th>0</th>\n",
       "      <td>0.001956</td>\n",
       "      <td>A1BG</td>\n",
       "      <td>alpha-1-B glycoprotein</td>\n",
       "      <td>0.003711</td>\n",
       "      <td>-0.021865</td>\n",
       "      <td>0.0</td>\n",
       "      <td>0.0</td>\n",
       "      <td>1.0</td>\n",
       "    </tr>\n",
       "    <tr>\n",
       "      <th>1</th>\n",
       "      <td>-0.007211</td>\n",
       "      <td>A1BG-AS1</td>\n",
       "      <td>NaN</td>\n",
       "      <td>-0.007837</td>\n",
       "      <td>-0.003920</td>\n",
       "      <td>0.0</td>\n",
       "      <td>0.0</td>\n",
       "      <td>0.0</td>\n",
       "    </tr>\n",
       "    <tr>\n",
       "      <th>2</th>\n",
       "      <td>0.005342</td>\n",
       "      <td>A2M</td>\n",
       "      <td>alpha-2-macroglobulin</td>\n",
       "      <td>0.008298</td>\n",
       "      <td>0.001742</td>\n",
       "      <td>0.0</td>\n",
       "      <td>0.0</td>\n",
       "      <td>0.0</td>\n",
       "    </tr>\n",
       "    <tr>\n",
       "      <th>3</th>\n",
       "      <td>-0.007153</td>\n",
       "      <td>A2ML1</td>\n",
       "      <td>alpha-2-macroglobulin-like 1</td>\n",
       "      <td>-0.004419</td>\n",
       "      <td>-0.006947</td>\n",
       "      <td>0.0</td>\n",
       "      <td>0.0</td>\n",
       "      <td>0.0</td>\n",
       "    </tr>\n",
       "    <tr>\n",
       "      <th>4</th>\n",
       "      <td>-0.002024</td>\n",
       "      <td>A3GALT2</td>\n",
       "      <td>NaN</td>\n",
       "      <td>0.001295</td>\n",
       "      <td>0.002109</td>\n",
       "      <td>0.0</td>\n",
       "      <td>0.0</td>\n",
       "      <td>0.0</td>\n",
       "    </tr>\n",
       "  </tbody>\n",
       "</table>\n",
       "</div>"
      ],
      "text/plain": [
       "         C1 gene_symbol                     gene_name        C2        C3  \\\n",
       "0  0.001956        A1BG        alpha-1-B glycoprotein  0.003711 -0.021865   \n",
       "1 -0.007211    A1BG-AS1                           NaN -0.007837 -0.003920   \n",
       "2  0.005342         A2M         alpha-2-macroglobulin  0.008298  0.001742   \n",
       "3 -0.007153       A2ML1  alpha-2-macroglobulin-like 1 -0.004419 -0.006947   \n",
       "4 -0.002024     A3GALT2                           NaN  0.001295  0.002109   \n",
       "\n",
       "   C1_genelist  C2_genelist  C3_genelist  \n",
       "0          0.0          0.0          1.0  \n",
       "1          0.0          0.0          0.0  \n",
       "2          0.0          0.0          0.0  \n",
       "3          0.0          0.0          0.0  \n",
       "4          0.0          0.0          0.0  "
      ]
     },
     "execution_count": 17,
     "metadata": {},
     "output_type": "execute_result"
    }
   ],
   "source": [
    "# NOTE: This spreadsheet was generated from the ModelExploration notebook \n",
    "comps = pandas.read_csv('data/all_comps.csv',index_col = 0)\n",
    "comps.head()"
   ]
  },
  {
   "cell_type": "markdown",
   "metadata": {},
   "source": [
    "#### Match genes"
   ]
  },
  {
   "cell_type": "code",
   "execution_count": 18,
   "metadata": {},
   "outputs": [
    {
     "data": {
      "text/plain": [
       "12647"
      ]
     },
     "execution_count": 18,
     "metadata": {},
     "output_type": "execute_result"
    }
   ],
   "source": [
    "shared_genes = list(set(comps.gene_symbol) & set(exp.gene_symbol))\n",
    "len(shared_genes)"
   ]
  },
  {
   "cell_type": "code",
   "execution_count": 19,
   "metadata": {},
   "outputs": [],
   "source": [
    "# Harmonizing expression data with genes shared between both datasets\n",
    "shared_genes = list(set(comps.gene_symbol) & set(exp.gene_symbol))\n",
    "matched_comps = pandas.DataFrame(comps[comps.gene_symbol.isin(shared_genes)],\n",
    "                                 copy=True)\n",
    "exp = pandas.DataFrame(exp[exp.gene_symbol.isin(shared_genes)],\n",
    "                                copy=True)"
   ]
  },
  {
   "cell_type": "code",
   "execution_count": 20,
   "metadata": {},
   "outputs": [],
   "source": [
    "# saving the index for a moment\n",
    "egenes = exp.gene_symbol.values"
   ]
  },
  {
   "cell_type": "markdown",
   "metadata": {},
   "source": [
    "Are we harmonized?"
   ]
  },
  {
   "cell_type": "code",
   "execution_count": 21,
   "metadata": {},
   "outputs": [
    {
     "data": {
      "text/plain": [
       "(12647, 2485)"
      ]
     },
     "execution_count": 21,
     "metadata": {},
     "output_type": "execute_result"
    }
   ],
   "source": [
    "exp.shape"
   ]
  },
  {
   "cell_type": "code",
   "execution_count": 22,
   "metadata": {},
   "outputs": [
    {
     "data": {
      "text/plain": [
       "(12647, 8)"
      ]
     },
     "execution_count": 22,
     "metadata": {},
     "output_type": "execute_result"
    }
   ],
   "source": [
    "matched_comps.shape"
   ]
  },
  {
   "cell_type": "markdown",
   "metadata": {},
   "source": [
    "Yep!"
   ]
  },
  {
   "cell_type": "markdown",
   "metadata": {},
   "source": [
    "#### regress covariates"
   ]
  },
  {
   "cell_type": "markdown",
   "metadata": {},
   "source": [
    "Here we are going to regress out the first five \"Sequence PCs\" from the data. These are PCs derived from confounding covariates (see processing script). ***Note:*** This took a few minutes on my computer\n",
    " "
   ]
  },
  {
   "cell_type": "code",
   "execution_count": 23,
   "metadata": {},
   "outputs": [
    {
     "name": "stdout",
     "output_type": "stream",
     "text": [
      "finished 1 of 12647\n",
      "finished 101 of 12647\n",
      "finished 201 of 12647\n",
      "finished 301 of 12647\n",
      "finished 401 of 12647\n",
      "finished 501 of 12647\n",
      "finished 601 of 12647\n",
      "finished 701 of 12647\n",
      "finished 801 of 12647\n",
      "finished 901 of 12647\n",
      "finished 1001 of 12647\n",
      "finished 1101 of 12647\n",
      "finished 1201 of 12647\n",
      "finished 1301 of 12647\n",
      "finished 1401 of 12647\n",
      "finished 1501 of 12647\n",
      "finished 1601 of 12647\n",
      "finished 1701 of 12647\n",
      "finished 1801 of 12647\n",
      "finished 1901 of 12647\n",
      "finished 2001 of 12647\n",
      "finished 2101 of 12647\n",
      "finished 2201 of 12647\n",
      "finished 2301 of 12647\n",
      "finished 2401 of 12647\n",
      "finished 2501 of 12647\n",
      "finished 2601 of 12647\n",
      "finished 2701 of 12647\n",
      "finished 2801 of 12647\n",
      "finished 2901 of 12647\n",
      "finished 3001 of 12647\n",
      "finished 3101 of 12647\n",
      "finished 3201 of 12647\n",
      "finished 3301 of 12647\n",
      "finished 3401 of 12647\n",
      "finished 3501 of 12647\n",
      "finished 3601 of 12647\n",
      "finished 3701 of 12647\n",
      "finished 3801 of 12647\n",
      "finished 3901 of 12647\n",
      "finished 4001 of 12647\n",
      "finished 4101 of 12647\n",
      "finished 4201 of 12647\n",
      "finished 4301 of 12647\n",
      "finished 4401 of 12647\n",
      "finished 4501 of 12647\n",
      "finished 4601 of 12647\n",
      "finished 4701 of 12647\n",
      "finished 4801 of 12647\n",
      "finished 4901 of 12647\n",
      "finished 5001 of 12647\n",
      "finished 5101 of 12647\n",
      "finished 5201 of 12647\n",
      "finished 5301 of 12647\n",
      "finished 5401 of 12647\n",
      "finished 5501 of 12647\n",
      "finished 5601 of 12647\n",
      "finished 5701 of 12647\n",
      "finished 5801 of 12647\n",
      "finished 5901 of 12647\n",
      "finished 6001 of 12647\n",
      "finished 6101 of 12647\n",
      "finished 6201 of 12647\n",
      "finished 6301 of 12647\n",
      "finished 6401 of 12647\n",
      "finished 6501 of 12647\n",
      "finished 6601 of 12647\n",
      "finished 6701 of 12647\n",
      "finished 6801 of 12647\n",
      "finished 6901 of 12647\n",
      "finished 7001 of 12647\n",
      "finished 7101 of 12647\n",
      "finished 7201 of 12647\n",
      "finished 7301 of 12647\n",
      "finished 7401 of 12647\n",
      "finished 7501 of 12647\n",
      "finished 7601 of 12647\n",
      "finished 7701 of 12647\n",
      "finished 7801 of 12647\n",
      "finished 7901 of 12647\n",
      "finished 8001 of 12647\n",
      "finished 8101 of 12647\n",
      "finished 8201 of 12647\n",
      "finished 8301 of 12647\n",
      "finished 8401 of 12647\n",
      "finished 8501 of 12647\n",
      "finished 8601 of 12647\n",
      "finished 8701 of 12647\n",
      "finished 8801 of 12647\n",
      "finished 8901 of 12647\n",
      "finished 9001 of 12647\n",
      "finished 9101 of 12647\n",
      "finished 9201 of 12647\n",
      "finished 9301 of 12647\n",
      "finished 9401 of 12647\n",
      "finished 9501 of 12647\n",
      "finished 9601 of 12647\n",
      "finished 9701 of 12647\n",
      "finished 9801 of 12647\n",
      "finished 9901 of 12647\n",
      "finished 10001 of 12647\n",
      "finished 10101 of 12647\n",
      "finished 10201 of 12647\n",
      "finished 10301 of 12647\n",
      "finished 10401 of 12647\n",
      "finished 10501 of 12647\n",
      "finished 10601 of 12647\n",
      "finished 10701 of 12647\n",
      "finished 10801 of 12647\n",
      "finished 10901 of 12647\n",
      "finished 11001 of 12647\n",
      "finished 11101 of 12647\n",
      "finished 11201 of 12647\n",
      "finished 11301 of 12647\n",
      "finished 11401 of 12647\n",
      "finished 11501 of 12647\n",
      "finished 11601 of 12647\n",
      "finished 11701 of 12647\n",
      "finished 11801 of 12647\n",
      "finished 11901 of 12647\n",
      "finished 12001 of 12647\n",
      "finished 12101 of 12647\n",
      "finished 12201 of 12647\n",
      "finished 12301 of 12647\n",
      "finished 12401 of 12647\n",
      "finished 12501 of 12647\n",
      "finished 12601 of 12647\n"
     ]
    }
   ],
   "source": [
    "# Make empty dataframe\n",
    "nexp = np.zeros_like(exp.iloc[:,1:-1].values)\n",
    "# get small table with only relevant covariates\n",
    "dat = pandas.DataFrame(df[df.columns[8:13]],copy=True)\n",
    "\n",
    "# regress covariates\n",
    "count = 0\n",
    "# for each gene\n",
    "for i,row in exp.iterrows():\n",
    "    # fit model regressing the PCs\n",
    "    dat.loc[:,'exp'] = row.values[1:-1].astype(float)\n",
    "    mod = smf.ols('exp ~ SeqPC1 + SeqPC2 + SeqPC3 + SeqPC4 + SeqPC5',\n",
    "                  data=dat).fit()\n",
    "    # save residuals\n",
    "    nexp[count,:] = mod.resid.values\n",
    "    # keep track\n",
    "    if count%100==0:\n",
    "        print('finished %s of %s'%(count+1,len(nexp)))\n",
    "    count+=1"
   ]
  },
  {
   "cell_type": "code",
   "execution_count": 24,
   "metadata": {},
   "outputs": [],
   "source": [
    "# update the expression dataset with the residuals\n",
    "exp = pandas.DataFrame(nexp,index=exp.index,columns=exp.columns[1:-1])"
   ]
  },
  {
   "cell_type": "code",
   "execution_count": 25,
   "metadata": {},
   "outputs": [],
   "source": [
    "exp.loc[:,'gene_symbol'] = egenes"
   ]
  },
  {
   "cell_type": "code",
   "execution_count": 26,
   "metadata": {},
   "outputs": [],
   "source": [
    "exp.sort_values('gene_symbol',inplace=True)"
   ]
  },
  {
   "cell_type": "code",
   "execution_count": 43,
   "metadata": {},
   "outputs": [],
   "source": [
    "# You might want to save this so you dont have to run the regression again\n",
    "# exp.to_csv('data/GTex_harmed_GExp.csv')"
   ]
  },
  {
   "cell_type": "markdown",
   "metadata": {},
   "source": [
    "# Analyses -- replication"
   ]
  },
  {
   "cell_type": "markdown",
   "metadata": {},
   "source": [
    "The objective here is to see if the PLS Components derived in AHBA \"reproduce\" in GTEx. \n",
    "\n",
    "The way we're doing this is taking the PLS Model trained on Allen data and applying it to the GTEx data. We compare the \"predicted\" GTEx data based on gene expression to the predicted Allen data by correlating the predicted values of both datasets across regions. The reason this works is because Y is spatial location, and regions are spatially embedded.\n",
    "\n",
    "So, what we are essentially doing here is just ensuring that the genes expressed in the Allen PLS Components are expressed in a similar regional pattern in GTEx as they are in AHBA. Another way to think about it is we are looking to see how similar the two are datasets with a specific focus on the expression of genes contributing to the AHBA PLS Components. See the XSpecies.ipynb for different null models.\n",
    "\n",
    "This is an important step because a) we see how robust the regional expression of PLS Components in a separate dataset, and b) it is necessary to show a very high correlation across datasets if we want to look at how the PLS Components vary over age in the GTEx dataset."
   ]
  },
  {
   "cell_type": "code",
   "execution_count": 40,
   "metadata": {},
   "outputs": [],
   "source": [
    "## Load the data if it was already saved\n",
    "#exp = pandas.read_csv('data/GTex_harmed_GExp.csv',index_col=0)"
   ]
  },
  {
   "cell_type": "code",
   "execution_count": 27,
   "metadata": {},
   "outputs": [],
   "source": [
    "# create dataframe with the important columns\n",
    "scols = exp.columns[:-1]\n",
    "pred = pandas.DataFrame()\n",
    "for i in range(1,4):\n",
    "    pred.loc[:,'C%s'%i] = np.dot(exp[scols].values.T,\n",
    "                                 matched_comps['C%s'%i])\n",
    "pred.loc[:,'sample'] = scols\n",
    "pred.loc[:,'Region'] = df.loc[:,'SMTSD'].values"
   ]
  },
  {
   "cell_type": "code",
   "execution_count": 28,
   "metadata": {},
   "outputs": [],
   "source": [
    "# Make a mapping between GTEx brain regions and AHBA divisions\n",
    "rkey = dict(zip(pred.Region.unique(),\n",
    "               ['Frontal','Cerebellum','Frontal','Caudate','Accumbens',\n",
    "               'Putamen','Hypothalamus','Hippocampus','AntCing',\n",
    "               'Cerebellum','Nigra','Amygdala']))"
   ]
  },
  {
   "cell_type": "code",
   "execution_count": 29,
   "metadata": {},
   "outputs": [],
   "source": [
    "# add to new dataframe\n",
    "for i,row in pred.iterrows():\n",
    "    pred.loc[i,'Div'] = rkey[row['Region']]"
   ]
  },
  {
   "cell_type": "code",
   "execution_count": 30,
   "metadata": {},
   "outputs": [
    {
     "data": {
      "text/html": [
       "<div>\n",
       "<style scoped>\n",
       "    .dataframe tbody tr th:only-of-type {\n",
       "        vertical-align: middle;\n",
       "    }\n",
       "\n",
       "    .dataframe tbody tr th {\n",
       "        vertical-align: top;\n",
       "    }\n",
       "\n",
       "    .dataframe thead th {\n",
       "        text-align: right;\n",
       "    }\n",
       "</style>\n",
       "<table border=\"1\" class=\"dataframe\">\n",
       "  <thead>\n",
       "    <tr style=\"text-align: right;\">\n",
       "      <th></th>\n",
       "      <th>C1</th>\n",
       "      <th>C2</th>\n",
       "      <th>C3</th>\n",
       "      <th>sample</th>\n",
       "      <th>Region</th>\n",
       "      <th>Div</th>\n",
       "    </tr>\n",
       "  </thead>\n",
       "  <tbody>\n",
       "    <tr>\n",
       "      <th>0</th>\n",
       "      <td>-6.628800</td>\n",
       "      <td>-8.069378</td>\n",
       "      <td>-0.740866</td>\n",
       "      <td>GTEX-1117F-3226-SM-5N9CT</td>\n",
       "      <td>Brain - Cortex</td>\n",
       "      <td>Frontal</td>\n",
       "    </tr>\n",
       "    <tr>\n",
       "      <th>1</th>\n",
       "      <td>-8.025321</td>\n",
       "      <td>-4.640875</td>\n",
       "      <td>-1.395969</td>\n",
       "      <td>GTEX-111FC-3126-SM-5GZZ2</td>\n",
       "      <td>Brain - Cortex</td>\n",
       "      <td>Frontal</td>\n",
       "    </tr>\n",
       "    <tr>\n",
       "      <th>2</th>\n",
       "      <td>15.515697</td>\n",
       "      <td>-4.035822</td>\n",
       "      <td>3.143921</td>\n",
       "      <td>GTEX-111FC-3326-SM-5GZYV</td>\n",
       "      <td>Brain - Cerebellum</td>\n",
       "      <td>Cerebellum</td>\n",
       "    </tr>\n",
       "    <tr>\n",
       "      <th>3</th>\n",
       "      <td>-14.408146</td>\n",
       "      <td>-11.237156</td>\n",
       "      <td>0.016869</td>\n",
       "      <td>GTEX-1128S-2726-SM-5H12C</td>\n",
       "      <td>Brain - Cortex</td>\n",
       "      <td>Frontal</td>\n",
       "    </tr>\n",
       "    <tr>\n",
       "      <th>4</th>\n",
       "      <td>10.256824</td>\n",
       "      <td>-8.396113</td>\n",
       "      <td>3.766058</td>\n",
       "      <td>GTEX-1128S-2826-SM-5N9DI</td>\n",
       "      <td>Brain - Cerebellum</td>\n",
       "      <td>Cerebellum</td>\n",
       "    </tr>\n",
       "  </tbody>\n",
       "</table>\n",
       "</div>"
      ],
      "text/plain": [
       "          C1         C2        C3                    sample  \\\n",
       "0  -6.628800  -8.069378 -0.740866  GTEX-1117F-3226-SM-5N9CT   \n",
       "1  -8.025321  -4.640875 -1.395969  GTEX-111FC-3126-SM-5GZZ2   \n",
       "2  15.515697  -4.035822  3.143921  GTEX-111FC-3326-SM-5GZYV   \n",
       "3 -14.408146 -11.237156  0.016869  GTEX-1128S-2726-SM-5H12C   \n",
       "4  10.256824  -8.396113  3.766058  GTEX-1128S-2826-SM-5N9DI   \n",
       "\n",
       "               Region         Div  \n",
       "0      Brain - Cortex     Frontal  \n",
       "1      Brain - Cortex     Frontal  \n",
       "2  Brain - Cerebellum  Cerebellum  \n",
       "3      Brain - Cortex     Frontal  \n",
       "4  Brain - Cerebellum  Cerebellum  "
      ]
     },
     "execution_count": 30,
     "metadata": {},
     "output_type": "execute_result"
    }
   ],
   "source": [
    "# How are we doing\n",
    "pred.head()"
   ]
  },
  {
   "cell_type": "markdown",
   "metadata": {},
   "source": [
    "We want to be able to test how robust the reproducibility is to age of the sample (everyone vs only those in the AHBA age range), cognitive status (everyone vs only those w/o brain disorder at death), and the interaction of these features.\n",
    "\n",
    "So, we'll create separate subsamples that include:\n",
    "* full -- Everyone\n",
    "* younger -- everyone <= 60\n",
    "* ctrl -- all \"controls\" (weren't excluded by stringent pipeline)\n",
    "* yctrl -- all \"controls\" <= 60"
   ]
  },
  {
   "cell_type": "code",
   "execution_count": 57,
   "metadata": {},
   "outputs": [
    {
     "data": {
      "text/plain": [
       "array([], dtype=object)"
      ]
     },
     "execution_count": 57,
     "metadata": {},
     "output_type": "execute_result"
    }
   ],
   "source": [
    "cntrl"
   ]
  },
  {
   "cell_type": "code",
   "execution_count": 31,
   "metadata": {},
   "outputs": [
    {
     "data": {
      "text/html": [
       "<div>\n",
       "<style scoped>\n",
       "    .dataframe tbody tr th:only-of-type {\n",
       "        vertical-align: middle;\n",
       "    }\n",
       "\n",
       "    .dataframe tbody tr th {\n",
       "        vertical-align: top;\n",
       "    }\n",
       "\n",
       "    .dataframe thead th {\n",
       "        text-align: right;\n",
       "    }\n",
       "</style>\n",
       "<table border=\"1\" class=\"dataframe\">\n",
       "  <thead>\n",
       "    <tr style=\"text-align: right;\">\n",
       "      <th></th>\n",
       "      <th>C1</th>\n",
       "      <th>C2</th>\n",
       "      <th>C3</th>\n",
       "      <th>GTeX_div</th>\n",
       "    </tr>\n",
       "    <tr>\n",
       "      <th>Div</th>\n",
       "      <th></th>\n",
       "      <th></th>\n",
       "      <th></th>\n",
       "      <th></th>\n",
       "    </tr>\n",
       "  </thead>\n",
       "  <tbody>\n",
       "    <tr>\n",
       "      <th>Accumbens</th>\n",
       "      <td>-5.850899</td>\n",
       "      <td>6.457072</td>\n",
       "      <td>-3.353998</td>\n",
       "      <td>Accumbens</td>\n",
       "    </tr>\n",
       "    <tr>\n",
       "      <th>Amygdala</th>\n",
       "      <td>-1.034732</td>\n",
       "      <td>2.449476</td>\n",
       "      <td>-5.087931</td>\n",
       "      <td>Amygdala</td>\n",
       "    </tr>\n",
       "    <tr>\n",
       "      <th>AntCing</th>\n",
       "      <td>-11.891049</td>\n",
       "      <td>-1.336220</td>\n",
       "      <td>-2.982793</td>\n",
       "      <td>AntCing</td>\n",
       "    </tr>\n",
       "    <tr>\n",
       "      <th>Caudate</th>\n",
       "      <td>-3.850769</td>\n",
       "      <td>6.777791</td>\n",
       "      <td>0.505844</td>\n",
       "      <td>Caudate</td>\n",
       "    </tr>\n",
       "    <tr>\n",
       "      <th>Cerebellum</th>\n",
       "      <td>16.059562</td>\n",
       "      <td>-9.927347</td>\n",
       "      <td>2.926948</td>\n",
       "      <td>Cerebellum</td>\n",
       "    </tr>\n",
       "    <tr>\n",
       "      <th>Frontal</th>\n",
       "      <td>-14.711425</td>\n",
       "      <td>-7.061995</td>\n",
       "      <td>-2.128452</td>\n",
       "      <td>Frontal</td>\n",
       "    </tr>\n",
       "    <tr>\n",
       "      <th>Hippocampus</th>\n",
       "      <td>0.616271</td>\n",
       "      <td>0.518133</td>\n",
       "      <td>-1.829905</td>\n",
       "      <td>Hippocampus</td>\n",
       "    </tr>\n",
       "    <tr>\n",
       "      <th>Hypothalamus</th>\n",
       "      <td>8.339170</td>\n",
       "      <td>11.701977</td>\n",
       "      <td>3.760205</td>\n",
       "      <td>Hypothalamus</td>\n",
       "    </tr>\n",
       "    <tr>\n",
       "      <th>Nigra</th>\n",
       "      <td>17.909229</td>\n",
       "      <td>11.119923</td>\n",
       "      <td>8.377032</td>\n",
       "      <td>Nigra</td>\n",
       "    </tr>\n",
       "    <tr>\n",
       "      <th>Putamen</th>\n",
       "      <td>-0.759246</td>\n",
       "      <td>1.947186</td>\n",
       "      <td>0.431309</td>\n",
       "      <td>Putamen</td>\n",
       "    </tr>\n",
       "  </tbody>\n",
       "</table>\n",
       "</div>"
      ],
      "text/plain": [
       "                     C1         C2        C3      GTeX_div\n",
       "Div                                                       \n",
       "Accumbens     -5.850899   6.457072 -3.353998     Accumbens\n",
       "Amygdala      -1.034732   2.449476 -5.087931      Amygdala\n",
       "AntCing      -11.891049  -1.336220 -2.982793       AntCing\n",
       "Caudate       -3.850769   6.777791  0.505844       Caudate\n",
       "Cerebellum    16.059562  -9.927347  2.926948    Cerebellum\n",
       "Frontal      -14.711425  -7.061995 -2.128452       Frontal\n",
       "Hippocampus    0.616271   0.518133 -1.829905   Hippocampus\n",
       "Hypothalamus   8.339170  11.701977  3.760205  Hypothalamus\n",
       "Nigra         17.909229  11.119923  8.377032         Nigra\n",
       "Putamen       -0.759246   1.947186  0.431309       Putamen"
      ]
     },
     "execution_count": 31,
     "metadata": {},
     "output_type": "execute_result"
    }
   ],
   "source": [
    "# create these \"datasets\"\n",
    "younger = df[df.AGE<61][df.columns[0]].values\n",
    "cntrl = df[df.Excl_Dx==0][df.columns[0]].values\n",
    "datasets = {'full': pred.groupby('Div')[['C1','C2','C3']].mean().sort_index(),\n",
    "            'younger': pred[pred['sample'].isin(younger)\n",
    "                                 ].groupby('Div')[['C1','C2','C3']].mean().sort_index(),\n",
    "            'ctrl': pred[pred['sample'].isin(cntrl)\n",
    "                        ].groupby('Div')[['C1','C2','C3']].mean().sort_index(),\n",
    "            'yctrl': pred[(pred['sample'].isin(cntrl)) & (pred['sample'].isin(younger))\n",
    "                        ].groupby('Div')[['C1','C2','C3']].mean().sort_index()\n",
    "           }\n",
    "for nm,gtC in datasets.items():\n",
    "    gtC.loc[:,'GTeX_div'] = gtC.index\n",
    "    \n",
    "# show an example\n",
    "datasets['full']"
   ]
  },
  {
   "cell_type": "code",
   "execution_count": 53,
   "metadata": {},
   "outputs": [
    {
     "name": "stdout",
     "output_type": "stream",
     "text": [
      "========== full ==========\n",
      "r = 0.89, p = 0.001\n"
     ]
    },
    {
     "data": {
      "image/png": "[encoded data removed]",
      "text/plain": [
       "<Figure size 360x360 with 1 Axes>"
      ]
     },
     "metadata": {
      "needs_background": "light"
     },
     "output_type": "display_data"
    },
    {
     "name": "stdout",
     "output_type": "stream",
     "text": [
      "r = 0.377, p = 0.283\n"
     ]
    },
    {
     "data": {
      "image/png": "[encoded data removed]",
      "text/plain": [
       "<Figure size 360x360 with 1 Axes>"
      ]
     },
     "metadata": {
      "needs_background": "light"
     },
     "output_type": "display_data"
    },
    {
     "name": "stdout",
     "output_type": "stream",
     "text": [
      "r = 0.499, p = 0.142\n"
     ]
    },
    {
     "data": {
      "image/png": "[encoded data removed]",
      "text/plain": [
       "<Figure size 360x360 with 1 Axes>"
      ]
     },
     "metadata": {
      "needs_background": "light"
     },
     "output_type": "display_data"
    }
   ],
   "source": [
    "# Run replication analysis and plot\n",
    "\n",
    "fig_dir = '/Users/jacobv/Dropbox/Work/Projects/PLS_ABA/Manuscript/Figs/SubFigs/'\n",
    "sns.set_context('notebook',font_scale=2)\n",
    "\n",
    "# color scales for lines\n",
    "pals = ['cividis','viridis','magma'] \n",
    "\n",
    "# used to control location of text within plot\n",
    "# I havent messed with this in awhile as I ended up moving the text\n",
    "# manually after creating the figure. Like a pleb.\n",
    "scale = {1:0.02,2:0.015,3:0.008} \n",
    "\n",
    "# for each dataset\n",
    "for nm,gtC in datasets.items(): \n",
    "    #if nm != 'full': continue\n",
    "    print('%s %s %s'%(('='*10),nm,('='*10)))\n",
    "    # for each PLS component\n",
    "    for i in range(1,4):\n",
    "        # standardize data (because no intercept) -- pattern expression\n",
    "        vals = StandardScaler().fit_transform(gtC.loc[:,'C%s'%i\n",
    "                                                 ].values.reshape(-1,1)\n",
    "                                         )[:,0]\n",
    "        gtC.loc[:,'zC%s'%i] = vals\n",
    "        ## !!CHANGE PATH!!##\n",
    "        # Load Allen component data\n",
    "        allen = pandas.read_csv('data/GCorr_GTexComp_ABA_C%s_data_ROTATION.csv'%i\n",
    "                               ).sort_values('GTeX_div')\n",
    "        allen.index = allen.GTeX_div.values\n",
    "        allen.drop('Pallidum',axis=0,inplace=True)\n",
    "        # concatenate GTEx and AHBA data for seaborn plotting\n",
    "        plotr = pandas.concat([pandas.Series(allen['C%s_Expression'%i\n",
    "                                                  ].values),\n",
    "                               pandas.Series(gtC['zC%s'%i].values)],\n",
    "                              axis=1)\n",
    "        plotr.columns = ['Allen','GTEx']\n",
    "        plotr.index = allen.GTeX_div.values\n",
    "\n",
    "        # add pretty colors (...for continuity!)\n",
    "        # normalize colorscale of markers by AHBA values\n",
    "        cmap = sns.color_palette(pals[i-1],as_cmap=True)\n",
    "        sg = plotr.Allen.values\n",
    "        scaled_sg = MinMaxScaler().fit_transform(sg.reshape(-1,1))[:,0]\n",
    "        norm = Normalize(vmin=np.min(scaled_sg), \n",
    "                                           vmax=np.max(scaled_sg))\n",
    "        cscale = cmap(norm(scaled_sg))\n",
    "        \n",
    "        # plot it\n",
    "        g = sns.lmplot(x='Allen',y='GTEx',data=plotr,\n",
    "               scatter_kws={'marker':'o','s':200,'color':cscale},\n",
    "                      line_kws={'color':'k'})\n",
    "        # get the inter-dataset correlations\n",
    "        r,p = stats.pearsonr(plotr.Allen.values,plotr.GTEx.values)\n",
    "        print('r = %s, p = %s'%(round(r,3),round(p,3)))\n",
    "\n",
    "        # add text indicating which brain region each marker is\n",
    "        for it,div in enumerate(plotr.sort_values('Allen').index):\n",
    "            x = plotr.loc[div,'Allen']\n",
    "            y = plotr.loc[div,'GTEx']\n",
    "            dist = len(div)*scale[i]#.02\n",
    "            if it%2==0:\n",
    "                plt.text(x, y,div,{'size':14},va='top')\n",
    "            else:\n",
    "                plt.text(x, y,div,{'size':14},va='bottom',\n",
    "                         )\n",
    "        # decorate\n",
    "        plt.xlabel('C%s: AHBA'%i)\n",
    "        plt.ylabel('C%s: GTEx'%i)\n",
    "        plt.text(0.7,0.1,'r = %s'%round(r,3),transform=g.ax.transAxes)\n",
    "        #plt.xlim(-.45,.45)\n",
    "        plt.savefig(os.path.join(fig_dir,'GTEx_Repl_%s_C%s_ROTATED.pdf'%(nm,i)), bbox_inches='tight')\n",
    "        plt.show()"
   ]
  },
  {
   "cell_type": "markdown",
   "metadata": {},
   "source": [
    "# Add brain divisions"
   ]
  },
  {
   "cell_type": "code",
   "execution_count": 35,
   "metadata": {},
   "outputs": [],
   "source": [
    "# C1\n",
    "\n",
    "tele = ['Brain - Cortex','Caudate (basal ganglia)',\n",
    "       'Brain - Nucleus accumbens (basal ganglia)',\n",
    "        'Brain - Frontal Cortex (BA9)','Brain - Putamen (basal ganglia)',\n",
    "        'Brain - Hippocampus','Brain - Anterior cingulate cortex (BA24)',\n",
    "        'Brain - Amygdala']\n",
    "dien = ['Brain - Hypothalamus']\n",
    "met = ['Brain - Substantia nigra']\n",
    "mes = ['Brain - Cerebellum','Brain - Cerebellar Hemisphere']\n",
    "\n",
    "divs = [tele, dien, met, mes]\n",
    "names = ['Tele', 'Dien', 'Met', 'Mes',] \n",
    "brain_division = dict(zip(names,divs))\n",
    "for name, div in brain_division.items():\n",
    "    pred.loc[pred[pred.Region.isin(div)].index,'DevOrigin'] = name\n",
    "\n",
    "# C2\n",
    "cortex = ['Brain - Cortex','Brain - Cerebellum',\n",
    "         'Brain - Cerebellar Hemisphere',\n",
    "         'Brain - Frontal Cortex (BA9)','Brain - Hippocampus',\n",
    "         'Brain - Anterior cingulate cortex (BA24)',]\n",
    "noncortex = ['Caudate (basal ganglia)',\n",
    "             'Brain - Nucleus accumbens (basal ganglia)',\n",
    "            'Brain - Putamen (basal ganglia)','Brain - Hypothalamus',\n",
    "             'Brain - Amygdala','Brain - Substantia nigra']\n",
    "divs = [cortex,noncortex]\n",
    "names = ['Cortex','NonCortex'] \n",
    "brain_division = dict(zip(names,divs))\n",
    "for name, div in brain_division.items():\n",
    "    pred.loc[pred[pred.Region.isin(div)].index,'Cortex'] = name\n",
    "\n",
    "# C3\n",
    "assoc = ['Brain - Cortex','Brain - Frontal Cortex (BA9)',\n",
    "        'Brain - Anterior cingulate cortex (BA24)']\n",
    "lbf = ['Brain - Nucleus accumbens (basal ganglia)',\n",
    "      'Brain - Hippocampus','Brain - Amygdala']\n",
    "bg = ['Caudate (basal ganglia)','Brain - Putamen (basal ganglia)',\n",
    "     ]\n",
    "other = ['Brain - Cerebellum','Brain - Cerebellar Hemisphere',\n",
    "        'Brain - Hypothalamus','Brain - Substantia nigra']\n",
    "\n",
    "divs = [assoc,lbf,bg,other]\n",
    "names = ['Association','Limbic/BF','BasalGanglia','Other'] \n",
    "brain_division = dict(zip(names,divs))\n",
    "for name, div in brain_division.items():\n",
    "    pred.loc[pred[pred.Region.isin(div)].index,'CortType'] = name"
   ]
  },
  {
   "cell_type": "code",
   "execution_count": 36,
   "metadata": {},
   "outputs": [
    {
     "data": {
      "text/plain": [
       "2483"
      ]
     },
     "execution_count": 36,
     "metadata": {},
     "output_type": "execute_result"
    }
   ],
   "source": [
    "len(df)"
   ]
  },
  {
   "cell_type": "markdown",
   "metadata": {},
   "source": [
    "# Widen dataframes for individual analysis"
   ]
  },
  {
   "cell_type": "markdown",
   "metadata": {},
   "source": [
    "We can apply the same logic above to measure individual correspondence to Allen components. In other words, now that we know the Allen components replicate in GTEx, we can look at replication at an individual level. Since GTEx has a wide age range, we can look to see whether and how the manifestation of these components changes with age"
   ]
  },
  {
   "cell_type": "code",
   "execution_count": 46,
   "metadata": {},
   "outputs": [],
   "source": [
    "pred.loc[:,'SUBJID'] = df.SUBJID.values"
   ]
  },
  {
   "cell_type": "code",
   "execution_count": 47,
   "metadata": {},
   "outputs": [],
   "source": [
    "# For each component, make a subject x region matrix\n",
    "# and keep track of number of valid regions for each subject\n",
    "gpdfs = {}\n",
    "for i in range(1,4):\n",
    "    gpdf = pred[['SUBJID','C%s'%i,'Div']\n",
    "              ].set_index(['SUBJID'],append=True\n",
    "                         ).pivot_table(index='SUBJID',\n",
    "                                       columns='Div',\n",
    "                                       values='C%s'%i)\n",
    "    \n",
    "    for ind,row in gpdf.iterrows():\n",
    "        n_valid = len([x for x in row.values if pandas.notnull(x)])\n",
    "        gpdf.loc[ind,'n_valid'] = n_valid\n",
    "    gpdfs.update({i: gpdf})"
   ]
  },
  {
   "cell_type": "code",
   "execution_count": 48,
   "metadata": {},
   "outputs": [
    {
     "name": "stdout",
     "output_type": "stream",
     "text": [
      "(376, 11)\n"
     ]
    },
    {
     "data": {
      "text/html": [
       "<div>\n",
       "<style scoped>\n",
       "    .dataframe tbody tr th:only-of-type {\n",
       "        vertical-align: middle;\n",
       "    }\n",
       "\n",
       "    .dataframe tbody tr th {\n",
       "        vertical-align: top;\n",
       "    }\n",
       "\n",
       "    .dataframe thead th {\n",
       "        text-align: right;\n",
       "    }\n",
       "</style>\n",
       "<table border=\"1\" class=\"dataframe\">\n",
       "  <thead>\n",
       "    <tr style=\"text-align: right;\">\n",
       "      <th>Div</th>\n",
       "      <th>Accumbens</th>\n",
       "      <th>Amygdala</th>\n",
       "      <th>AntCing</th>\n",
       "      <th>Caudate</th>\n",
       "      <th>Cerebellum</th>\n",
       "      <th>Frontal</th>\n",
       "      <th>Hippocampus</th>\n",
       "      <th>Hypothalamus</th>\n",
       "      <th>Nigra</th>\n",
       "      <th>Putamen</th>\n",
       "      <th>n_valid</th>\n",
       "    </tr>\n",
       "    <tr>\n",
       "      <th>SUBJID</th>\n",
       "      <th></th>\n",
       "      <th></th>\n",
       "      <th></th>\n",
       "      <th></th>\n",
       "      <th></th>\n",
       "      <th></th>\n",
       "      <th></th>\n",
       "      <th></th>\n",
       "      <th></th>\n",
       "      <th></th>\n",
       "      <th></th>\n",
       "    </tr>\n",
       "  </thead>\n",
       "  <tbody>\n",
       "    <tr>\n",
       "      <th>GTEX-1117F</th>\n",
       "      <td>NaN</td>\n",
       "      <td>NaN</td>\n",
       "      <td>NaN</td>\n",
       "      <td>NaN</td>\n",
       "      <td>NaN</td>\n",
       "      <td>-6.628800</td>\n",
       "      <td>NaN</td>\n",
       "      <td>NaN</td>\n",
       "      <td>NaN</td>\n",
       "      <td>NaN</td>\n",
       "      <td>1.0</td>\n",
       "    </tr>\n",
       "    <tr>\n",
       "      <th>GTEX-111FC</th>\n",
       "      <td>NaN</td>\n",
       "      <td>NaN</td>\n",
       "      <td>NaN</td>\n",
       "      <td>NaN</td>\n",
       "      <td>15.515697</td>\n",
       "      <td>-8.025321</td>\n",
       "      <td>NaN</td>\n",
       "      <td>NaN</td>\n",
       "      <td>NaN</td>\n",
       "      <td>NaN</td>\n",
       "      <td>2.0</td>\n",
       "    </tr>\n",
       "    <tr>\n",
       "      <th>GTEX-1128S</th>\n",
       "      <td>NaN</td>\n",
       "      <td>NaN</td>\n",
       "      <td>NaN</td>\n",
       "      <td>NaN</td>\n",
       "      <td>10.256824</td>\n",
       "      <td>-14.408146</td>\n",
       "      <td>NaN</td>\n",
       "      <td>NaN</td>\n",
       "      <td>NaN</td>\n",
       "      <td>NaN</td>\n",
       "      <td>2.0</td>\n",
       "    </tr>\n",
       "    <tr>\n",
       "      <th>GTEX-117XS</th>\n",
       "      <td>NaN</td>\n",
       "      <td>NaN</td>\n",
       "      <td>NaN</td>\n",
       "      <td>NaN</td>\n",
       "      <td>15.236004</td>\n",
       "      <td>-18.051822</td>\n",
       "      <td>NaN</td>\n",
       "      <td>NaN</td>\n",
       "      <td>NaN</td>\n",
       "      <td>NaN</td>\n",
       "      <td>2.0</td>\n",
       "    </tr>\n",
       "    <tr>\n",
       "      <th>GTEX-1192X</th>\n",
       "      <td>-6.19463</td>\n",
       "      <td>NaN</td>\n",
       "      <td>NaN</td>\n",
       "      <td>-7.580589</td>\n",
       "      <td>19.050250</td>\n",
       "      <td>-19.363951</td>\n",
       "      <td>NaN</td>\n",
       "      <td>1.819531</td>\n",
       "      <td>NaN</td>\n",
       "      <td>1.435273</td>\n",
       "      <td>6.0</td>\n",
       "    </tr>\n",
       "  </tbody>\n",
       "</table>\n",
       "</div>"
      ],
      "text/plain": [
       "Div         Accumbens  Amygdala  AntCing   Caudate  Cerebellum    Frontal  \\\n",
       "SUBJID                                                                      \n",
       "GTEX-1117F        NaN       NaN      NaN       NaN         NaN  -6.628800   \n",
       "GTEX-111FC        NaN       NaN      NaN       NaN   15.515697  -8.025321   \n",
       "GTEX-1128S        NaN       NaN      NaN       NaN   10.256824 -14.408146   \n",
       "GTEX-117XS        NaN       NaN      NaN       NaN   15.236004 -18.051822   \n",
       "GTEX-1192X   -6.19463       NaN      NaN -7.580589   19.050250 -19.363951   \n",
       "\n",
       "Div         Hippocampus  Hypothalamus  Nigra   Putamen  n_valid  \n",
       "SUBJID                                                           \n",
       "GTEX-1117F          NaN           NaN    NaN       NaN      1.0  \n",
       "GTEX-111FC          NaN           NaN    NaN       NaN      2.0  \n",
       "GTEX-1128S          NaN           NaN    NaN       NaN      2.0  \n",
       "GTEX-117XS          NaN           NaN    NaN       NaN      2.0  \n",
       "GTEX-1192X          NaN      1.819531    NaN  1.435273      6.0  "
      ]
     },
     "execution_count": 48,
     "metadata": {},
     "output_type": "execute_result"
    }
   ],
   "source": [
    "# an example\n",
    "print(gpdfs[1].shape)\n",
    "gpdfs[1].head()"
   ]
  },
  {
   "cell_type": "markdown",
   "metadata": {},
   "source": [
    "# Individual congruence"
   ]
  },
  {
   "cell_type": "markdown",
   "metadata": {},
   "source": [
    "Here, we use similar code above to define the correlation between each subject's regional component expression to the expression of that component in the AHBA. We exclude all individuals with less than 6 valid regions"
   ]
  },
  {
   "cell_type": "code",
   "execution_count": 49,
   "metadata": {},
   "outputs": [],
   "source": [
    "# for each component\n",
    "for c in range(1,4):\n",
    "    cdf = gpdfs[c]\n",
    "    # load allen regional daata\n",
    "    # !!CHANGE PATH!!\n",
    "    allen = pandas.read_csv('data/GCorr_GTexComp_ABA_C%s_data_ROTATION.csv'%c\n",
    "                           ).sort_values('GTeX_div')\n",
    "    allen.index = allen.GTeX_div.values\n",
    "    allen.drop('Pallidum',axis=0,inplace=True)\n",
    "    avec = allen.loc[cdf.columns[:-1]]\n",
    "    # for each subjects\n",
    "    for i,row in cdf.iterrows():\n",
    "        # build a correlation df\n",
    "        forcorr = pandas.DataFrame(allen,copy=True)\n",
    "        # exclude subjects with <6 regions available\n",
    "        if row['n_valid'] > 5:\n",
    "            # calculate subject - AHBA correlation\n",
    "            forcorr.loc[:,'gvec'] = row.values[:-1]\n",
    "            forcorr.dropna(inplace=True)\n",
    "            r = stats.pearsonr(forcorr['C%s_Expression'%c].values,\n",
    "                              forcorr['gvec'].values)[0]\n",
    "            rho = stats.spearmanr(forcorr['C%s_Expression'%c].values,\n",
    "                              forcorr['gvec'].values)[0]\n",
    "            cdf.loc[i,'C%s_r'%c] = r\n",
    "            cdf.loc[i,'C%s_rho'%c] = rho"
   ]
  },
  {
   "cell_type": "markdown",
   "metadata": {},
   "source": [
    "Now we summarize everything into one convenient dataframe"
   ]
  },
  {
   "cell_type": "code",
   "execution_count": 50,
   "metadata": {},
   "outputs": [],
   "source": [
    "cols = ['SUBJID', 'RIN', 'BATCH', 'GBATCH', 'AGE', 'SEX',\n",
    "       'SeqPC1', 'SeqPC2', 'SeqPC3', 'SeqPC4', 'SeqPC5'] #+ bwcols\n",
    "subsum = pandas.DataFrame(gpdfs[1].index)\n",
    "for col in cols:\n",
    "    subsum.loc[:,col] = df.groupby('SUBJID')[col].first().values\n",
    "for c in range(1,4):\n",
    "    subsum.loc[:,'C%s_r'%c] = gpdfs[c].loc[:,'C%s_r'%c].values\n",
    "    subsum.loc[:,'C%s_rho'%c] = gpdfs[c].loc[:,'C%s_rho'%c].values\n",
    "    subsum.loc[:,'n_valid'] = gpdfs[c].loc[:,'n_valid'].values"
   ]
  },
  {
   "cell_type": "markdown",
   "metadata": {},
   "source": [
    "Now we save this spreadsheet, because we do all the analysis in the C_BrainSpanValidation notebook"
   ]
  },
  {
   "cell_type": "code",
   "execution_count": 51,
   "metadata": {},
   "outputs": [],
   "source": [
    "# Save this spreadsheet to open it \n",
    "# !!CHANGE PATH!!\n",
    "subsum.to_csv('data/GTEx_IndivCongruence_ROTATION.csv')"
   ]
  },
  {
   "cell_type": "code",
   "execution_count": null,
   "metadata": {},
   "outputs": [],
   "source": []
  }
 ],
 "metadata": {
  "kernelspec": {
   "display_name": "Python 3",
   "language": "python",
   "name": "python3"
  },
  "language_info": {
   "codemirror_mode": {
    "name": "ipython",
    "version": 3
   },
   "file_extension": ".py",
   "mimetype": "text/x-python",
   "name": "python",
   "nbconvert_exporter": "python",
   "pygments_lexer": "ipython3",
   "version": "3.7.3"
  }
 },
 "nbformat": 4,
 "nbformat_minor": 4
}
