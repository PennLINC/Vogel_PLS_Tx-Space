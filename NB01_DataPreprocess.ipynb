{
 "cells": [
  {
   "cell_type": "code",
   "execution_count": 1,
   "metadata": {},
   "outputs": [
    {
     "name": "stderr",
     "output_type": "stream",
     "text": [
      "/Users/jacobv/pls_gxp/lib/python3.7/site-packages/pandas/compat/__init__.py:97: UserWarning: Could not import the lzma module. Your installed Python is incomplete. Attempting to use lzma compression will result in a RuntimeError.\n",
      "  warnings.warn(msg)\n"
     ]
    }
   ],
   "source": [
    "import abagen\n",
    "from nilearn.datasets import fetch_atlas_aal"
   ]
  },
  {
   "cell_type": "markdown",
   "metadata": {},
   "source": [
    "# Download and preprocess data"
   ]
  },
  {
   "cell_type": "code",
   "execution_count": 2,
   "metadata": {},
   "outputs": [
    {
     "name": "stdout",
     "output_type": "stream",
     "text": [
      "Downloading data from https://human.brain-map.org/api/v2/well_known_file_download/178238387 ...\n"
     ]
    },
    {
     "name": "stderr",
     "output_type": "stream",
     "text": [
      "Downloaded 425988059 of 425988059 bytes (100.0%,    0.0s remaining) ...done. (116 seconds, 1 min)\n",
      "Extracting data from /Users/jacobv/abagen-data/microarray/f301ae4a58e096ed0623e9e6f824d481/normalized_microarray_donor9861/donor9861.zip..... done.\n"
     ]
    },
    {
     "name": "stdout",
     "output_type": "stream",
     "text": [
      "Downloading data from https://human.brain-map.org/api/v2/well_known_file_download/178238373 ...\n"
     ]
    },
    {
     "name": "stderr",
     "output_type": "stream",
     "text": [
      "Downloaded 400957002 of 400957002 bytes (100.0%,    0.0s remaining) ...done. (603 seconds, 10 min)\n",
      "Extracting data from /Users/jacobv/abagen-data/microarray/f301ae4a58e096ed0623e9e6f824d481/normalized_microarray_donor10021/donor10021.zip..... done.\n"
     ]
    },
    {
     "name": "stdout",
     "output_type": "stream",
     "text": [
      "Downloading data from https://human.brain-map.org/api/v2/well_known_file_download/178238359 ...\n"
     ]
    },
    {
     "name": "stderr",
     "output_type": "stream",
     "text": [
      "Downloaded 166233851 of 166233851 bytes (100.0%,    0.0s remaining) ...done. (49 seconds, 0 min)\n",
      "Extracting data from /Users/jacobv/abagen-data/microarray/f301ae4a58e096ed0623e9e6f824d481/normalized_microarray_donor12876/donor12876.zip..... done.\n"
     ]
    },
    {
     "name": "stdout",
     "output_type": "stream",
     "text": [
      "Downloading data from https://human.brain-map.org/api/v2/well_known_file_download/178238316 ...\n"
     ]
    },
    {
     "name": "stderr",
     "output_type": "stream",
     "text": [
      "Downloaded 241359585 of 241359585 bytes (100.0%,    0.0s remaining) ...done. (67 seconds, 1 min)\n",
      "Extracting data from /Users/jacobv/abagen-data/microarray/f301ae4a58e096ed0623e9e6f824d481/normalized_microarray_donor14380/donor14380.zip..... done.\n"
     ]
    },
    {
     "name": "stdout",
     "output_type": "stream",
     "text": [
      "Downloading data from https://human.brain-map.org/api/v2/well_known_file_download/178238266 ...\n"
     ]
    },
    {
     "name": "stderr",
     "output_type": "stream",
     "text": [
      "Downloaded 216077630 of 216077630 bytes (100.0%,    0.0s remaining) ...done. (67 seconds, 1 min)\n",
      "Extracting data from /Users/jacobv/abagen-data/microarray/f301ae4a58e096ed0623e9e6f824d481/normalized_microarray_donor15496/donor15496.zip..... done.\n"
     ]
    },
    {
     "name": "stdout",
     "output_type": "stream",
     "text": [
      "Downloading data from https://human.brain-map.org/api/v2/well_known_file_download/178236545 ...\n"
     ]
    },
    {
     "name": "stderr",
     "output_type": "stream",
     "text": [
      "Downloaded 230640408 of 230640408 bytes (100.0%,    0.0s remaining) ...done. (65 seconds, 1 min)\n",
      "Extracting data from /Users/jacobv/abagen-data/microarray/f301ae4a58e096ed0623e9e6f824d481/normalized_microarray_donor15697/donor15697.zip..... done.\n"
     ]
    }
   ],
   "source": [
    "expression, coords = abagen.get_samples_in_mask(mask=None,)"
   ]
  },
  {
   "cell_type": "markdown",
   "metadata": {},
   "source": [
    "# Save data"
   ]
  },
  {
   "cell_type": "code",
   "execution_count": 6,
   "metadata": {},
   "outputs": [],
   "source": [
    "expression.to_csv('data/expression.csv')\n",
    "coords.to_csv('data/coords.csv')"
   ]
  },
  {
   "cell_type": "markdown",
   "metadata": {},
   "source": [
    "# Describe preprocessing methods"
   ]
  },
  {
   "cell_type": "code",
   "execution_count": 13,
   "metadata": {},
   "outputs": [
    {
     "name": "stdout",
     "output_type": "stream",
     "text": [
      "Regional microarry expression data were obtained from 6 post-mortem brains (1 female, ages 24.0--57.0, 42.50 +/- 13.38) provided by the Allen Human Brain Atlas (AHBA, https://human.brain-map.org; [H2012N]). Data were processed with the abagen toolbox (version 0.1.3; https://github.com/rmarkello/abagen) using a 116-region volumetric atlas in MNI space.\n",
      "\n",
      "First, microarray probes were reannotated using data provided by [A2019N]; probes not matched to a valid Entrez ID were discarded. Next, probes were filtered based on their expression intensity relative to background noise [Q2002N], such that probes with intensity less than the background in >=50.00% of samples across donors were discarded . When multiple probes indexed the expression of the same gene, we selected and used the probe with the most consistent pattern of regional variation across donors (i.e., differential stability; [H2015N]), calculated with:\n",
      "\n",
      "$$ \\Delta_{{S}}(p) = \\frac{{1}}{{\\binom{{N}}{{2}}}} \\, \\sum_{{i=1}}^{{N-1}} \\sum_{{j=i+1}}^{{N}} \\rho[B_{{i}}(p), B_{{j}}(p)] $$\n",
      "\n",
      "where $ \\rho $ is Spearman's rank correlation of the expression of a single probe, p, across regions in two donors $B_{{i}}$ and $B_{{j}}$, and N is the total number of donors. Here, regions correspond to the structural designations provided in the ontology from the AHBA. \n",
      "\n",
      "The MNI coordinates of tissue samples were updated to those generated via non-linear registration using the Advanced Normalization Tools (ANTs; https://github.com/chrisfilo/alleninf). Samples were assigned to brain regions in the provided atlas if their MNI coordinates were within 2 mm of a given parcel. All tissue samples not assigned to a brain region in the provided atlas were discarded. \n",
      "\n",
      "Inter-subject variation was addressed by normalizing tissue sample expression values across genes using a robust sigmoid function [F2013J]:\n",
      "\n",
      "$$ x_{{norm}} = \\frac{{1}}{{1 + \\exp(-\\frac{{(x-\\langle x \\rangle)}} {{\\text{{IQR}}_{{x}}}})}} $$\n",
      "\n",
      "where $\\langle x \\rangle$ is the median and $\\text{{IQR}}_{{x}}$ is the normalized interquartile range of the expression of a single tissue sample across genes. Normalized expression values were then rescaled to the unit interval: \n",
      "\n",
      "$$ x_{{scaled}} = \\frac{{x_{{norm}} - \\min(x_{{norm}})}} {{\\max(x_{{norm}}) - \\min(x_{{norm}})}} $$\n",
      "\n",
      "Gene expression values were then normalized across tissue samples using an identical procedure. Samples assigned to the same brain region were averaged separately for each donor and then across donors, yielding a regional expression matrix \b.\n",
      "\n",
      "REFERENCES\n",
      "----------\n",
      "[A2019N]: Arnatkevic̆iūtė, A., Fulcher, B. D., & Fornito, A. (2019). A practical guide to linking brain-wide gene expression and neuroimaging data. Neuroimage, 189, 353-367.\n",
      "[F2013J]: Fulcher, B. D., Little, M. A., & Jones, N. S. (2013). Highly comparative time-series analysis: the empirical structure of time series and their methods. Journal of the Royal Society Interface, 10(83), 20130048.\n",
      "[H2012N]: Hawrylycz, M. J., Lein, E. S., Guillozet-Bongaarts, A. L., Shen, E. H., Ng, L., Miller, J. A., ... & Jones, A. R. (2012). An anatomically comprehensive atlas of the adult human brain transcriptome. Nature, 489(7416), 391-399.\n",
      "[H2015N]: Hawrylycz, M., Miller, J. A., Menon, V., Feng, D., Dolbeare, T., Guillozet-Bongaarts, A. L., ... & Lein, E. (2015). Canonical genetic signatures of the adult human brain. Nature Neuroscience, 18(12), 1832.\n",
      "[Q2002N]: Quackenbush, J. (2002). Microarray data normalization and transformation. Nature Genetics, 32(4), 496-501.\n",
      "\n"
     ]
    }
   ],
   "source": [
    "# we're going to have to use a random atlas just to get the methods\n",
    "# because Report has not been adapted to handle cases using \n",
    "# get_samples_from_mask\n",
    "aal = fetch_atlas_aal()\n",
    "generator = abagen.reporting.Report(atlas=aal['maps'])\n",
    "print(generator.gen_report())"
   ]
  },
  {
   "cell_type": "code",
   "execution_count": null,
   "metadata": {},
   "outputs": [],
   "source": []
  }
 ],
 "metadata": {
  "kernelspec": {
   "display_name": "Python 3",
   "language": "python",
   "name": "python3"
  },
  "language_info": {
   "codemirror_mode": {
    "name": "ipython",
    "version": 3
   },
   "file_extension": ".py",
   "mimetype": "text/x-python",
   "name": "python",
   "nbconvert_exporter": "python",
   "pygments_lexer": "ipython3",
   "version": "3.7.3"
  }
 },
 "nbformat": 4,
 "nbformat_minor": 4
}
